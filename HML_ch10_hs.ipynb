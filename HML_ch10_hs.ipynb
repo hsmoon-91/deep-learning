{
 "cells": [
  {
   "cell_type": "code",
   "execution_count": null,
   "metadata": {},
   "outputs": [],
   "source": []
  },
  {
   "cell_type": "markdown",
   "metadata": {},
   "source": [
    "## 10.2 케라스로 다층 퍼셉트론 구현하기\n",
    "* Keras\n",
    "    + 모든 종류의 신경망을 손쉽게 만들고 훈련, 평가, 실행할 수 있는 고수준 딥러닝 API\n",
    "    + 2015년 3월 오픈소스 공개\n",
    "    + Keras-team : 3개의 딥러닝 라이브러리 Tensorflow, CNTK, Theano 중 백엔드 선택 가능, 2016년 후반부터 Apache MXNet, Apple's CoreML, Javascript or timescript, PlaidML에서도 실행 가능\n",
    "    + Tensorflow의 tf.keras : Tensorflow에 번들 형태로 포함. Tensorflow 2.0 이후부터는 사실상 모두 Keras 통해 동작. \n",
    "\n",
    "### 10.2.1 텐서플로 2 설치\n",
    "* Jupiter Notebook 설치 전제 하에, **Anaconda Prompt 관리자 권한 실행** 후 아래 코드 실행함. \n",
    "```\n",
    "    python -m pip install --upgrade pip\n",
    "    pip install tensorflow\n",
    "```\n",
    "* 제대로 설치되었다면 아래 코드가 정상 동작할 것이고 그렇지 않으면 traceback 내용 확인하여 대응 필요. \n",
    "    + *Could not load dynamic library 'cudart64_110.dll'; dlerror: cudart64_110.dll not found* 메시지 발생하여, CUDA Toolkit 다운로드 후 설치 진행하였음..."
   ]
  },
  {
   "cell_type": "code",
   "execution_count": null,
   "metadata": {},
   "outputs": [
    {
     "data": {
      "text/plain": [
       "'2.10.0'"
      ]
     },
     "metadata": {},
     "output_type": "display_data"
    }
   ],
   "source": [
    "import tensorflow as tf\n",
    "from tensorflow import keras\n",
    "tf.__version__"
   ]
  },
  {
   "cell_type": "code",
   "execution_count": null,
   "metadata": {},
   "outputs": [
    {
     "data": {
      "text/plain": [
       "'2.10.0'"
      ]
     },
     "metadata": {},
     "output_type": "display_data"
    }
   ],
   "source": [
    "keras.__version__"
   ]
  },
  {
   "cell_type": "markdown",
   "metadata": {},
   "source": [
    "### 10.2.2 시퀀셜 API를 사용하여 이미지 분류기 만들기\n",
    "* Fashion MNIST : MNIST와 형태가 정확히 같지만 손글씨 숫자가 아니라 패션 아이템을 나타내는 이미지 데이터셋\n",
    "    + 10개 class, 28&times;28 픽셀 크기의 70000개 흑백 이미지\n",
    "    + 샘플이 더 다양하여 MNIST 보다 분류하기 어려움. 간단한 선형모형 기준 MNIST는 92% 정확도, Fashion MNIST는 83% 정확도 달성.\n",
    "\n",
    "#### 케라스를 사용하여 데이터셋 적재하기\n",
    "* Keras는 널리 사용되는 데이터셋을 다운로드 할 수 있는 함수 제공\n",
    "* Keras를 통해 다운로드 하는 경우 28&times;28 크기의 배열이며 픽셀 강도가 정수(0-255)로 표현됨\n",
    "    + 0-1 범위로 조정하기 위해 일괄 255로 나누는 작업 필요"
   ]
  },
  {
   "cell_type": "code",
   "execution_count": null,
   "metadata": {},
   "outputs": [],
   "source": [
    "fashion_mnist = keras.datasets.fashion_mnist\n",
    "(X_train_full, y_train_full), (X_test, y_test) = fashion_mnist.load_data()"
   ]
  },
  {
   "cell_type": "code",
   "execution_count": null,
   "metadata": {},
   "outputs": [
    {
     "data": {
      "text/plain": [
       "(60000, 28, 28)"
      ]
     },
     "metadata": {},
     "output_type": "display_data"
    }
   ],
   "source": [
    "# training set 크기 및 데이터 타입 확인\n",
    "X_train_full.shape"
   ]
  },
  {
   "cell_type": "code",
   "execution_count": null,
   "metadata": {},
   "outputs": [
    {
     "data": {
      "text/plain": [
       "dtype('uint8')"
      ]
     },
     "metadata": {},
     "output_type": "display_data"
    }
   ],
   "source": [
    "X_train_full.dtype"
   ]
  },
  {
   "cell_type": "code",
   "execution_count": null,
   "metadata": {},
   "outputs": [],
   "source": [
    "# Validation set 생성 및 scaling\n",
    "# train:validation:test = 55000:5000:10000\n",
    "X_valid, X_train = X_train_full[:5000] / 255.0, X_train_full[5000:] / 255.0\n",
    "y_valid, y_train = y_train_full[:5000], y_train_full[5000:]\n",
    "X_test = X_test / 255.0"
   ]
  },
  {
   "cell_type": "code",
   "execution_count": null,
   "metadata": {},
   "outputs": [
    {
     "data": {
      "text/plain": [
       "'Coat'"
      ]
     },
     "metadata": {},
     "output_type": "display_data"
    }
   ],
   "source": [
    "# Class 이름 리스트 만들기\n",
    "class_names = [\"T-shirt/top\", \"Trouser\", \"Pullover\", \"Dress\", \"Coat\",\n",
    " \"Sandal\", \"Shirt\", \"Sneaker\", \"Bag\", \"Ankle boot\"]\n",
    "class_names[y_train[0]]"
   ]
  },
  {
   "cell_type": "markdown",
   "metadata": {},
   "source": [
    "#### 시퀀셜 API를 사용하여 모델 만들기\n",
    "* 두 개의 은닉층(hidden layer)으로 이루어진 분류용 다층 퍼셉트론(MLP)\n",
    "    + Sequential API : Keras의 가장 간단한 신경망 모델. 순서대로 연결된 층을 일렬로 쌓아서 구성.\n",
    "    + Flatten layer : 입력 이미지를 1D 배열로 변환. 입력 데이터 X를 받아 <kbd>X.reshape(-1, 28*28)</kbd> 계산\n",
    "        - <kbd>input_shape</kbd> 지정 필요. 배치 크기 제외하고 샘플의 크기만 작성\n",
    "    + Dense hidden layer1 : 300개 뉴런으로 구성. activation function으로 ReLU 사용. 모든 연결 가중치(가중치 행렬(W)과 편향 벡터(b)) 포함. \n",
    "    + Dense hidden layer2 : Hidden layer1과 동일하며 100개 뉴런으로 구성\n",
    "    + Dense output layer : 각 클래스 별로 하나씩, 10개의 뉴런으로 구성. softmax activation function 사용."
   ]
  },
  {
   "cell_type": "code",
   "execution_count": null,
   "metadata": {},
   "outputs": [
    {
     "data": {
      "text/plain": [
       "'\\n또는 Sequential model 안에 layer 정보를 모두 작성할 수도 있음\\nmodel = keras.models.Sequential([\\n keras.layers.Flatten(input_shape=[28, 28]),\\n keras.layers.Dense(300, activation=\"relu\"),\\n keras.layers.Dense(100, activation=\"relu\"),\\n keras.layers.Dense(10, activation=\"softmax\")\\n])\\n'"
      ]
     },
     "metadata": {},
     "output_type": "display_data"
    }
   ],
   "source": [
    "model = keras.models.Sequential(name=\"fashion_mnist_model\")\n",
    "model.add(keras.layers.Flatten(name=\"Flat\", input_shape=[28, 28]))\n",
    "model.add(keras.layers.Dense(300, name=\"Hidden1\", activation=\"relu\"))\n",
    "model.add(keras.layers.Dense(100, name=\"Hidden2\", activation=\"relu\"))\n",
    "model.add(keras.layers.Dense(10, name=\"Output\", activation=\"softmax\"))\n",
    "\n",
    "\"\"\"\n",
    "또는 Sequential model 안에 layer 정보를 모두 작성할 수도 있음\n",
    "model = keras.models.Sequential([\n",
    " keras.layers.Flatten(input_shape=[28, 28]),\n",
    " keras.layers.Dense(300, activation=\"relu\"),\n",
    " keras.layers.Dense(100, activation=\"relu\"),\n",
    " keras.layers.Dense(10, activation=\"softmax\")\n",
    "])\n",
    "\"\"\""
   ]
  },
  {
   "cell_type": "markdown",
   "metadata": {},
   "source": [
    "* <kbd>summary()</kbd> method는 모델의 모든 층을 출력함\n",
    "    + 각 층의 이름 (<kbd>name=</kbd> parameter로 지정 가능)\n",
    "    + 각 층의 출력 크기\n",
    "    + 각 층의 parameter 개수\n",
    "    + 훈련 가능한 / 불가능한 총 parameter 개수\n",
    "* Dense layer는 보통 많은 parameter가 존재\n",
    "    + 784&times;300+300=235500\n",
    "    + 300&times;100+10=30100\n",
    "    + 100&times;10+10=1010\n",
    "    + 훈련 데이터를 학습하기에 충분한 유연성을 가짐 + 과대적합(overfitting) 가능성"
   ]
  },
  {
   "cell_type": "code",
   "execution_count": null,
   "metadata": {},
   "outputs": [
    {
     "name": "stdout",
     "output_type": "stream",
     "text": [
      "Model: \"fashion_mnist_model\"\n",
      "_________________________________________________________________\n",
      " Layer (type)                Output Shape              Param #   \n",
      "=================================================================\n",
      " Flat (Flatten)              (None, 784)               0         \n",
      "                                                                 \n",
      " Hidden1 (Dense)             (None, 300)               235500    \n",
      "                                                                 \n",
      " Hidden2 (Dense)             (None, 100)               30100     \n",
      "                                                                 \n",
      " Output (Dense)              (None, 10)                1010      \n",
      "                                                                 \n",
      "=================================================================\n",
      "Total params: 266,610\n",
      "Trainable params: 266,610\n",
      "Non-trainable params: 0\n",
      "_________________________________________________________________\n"
     ]
    }
   ],
   "source": [
    "model.summary()"
   ]
  },
  {
   "cell_type": "code",
   "execution_count": null,
   "metadata": {},
   "outputs": [
    {
     "data": {
      "text/plain": [
       "[<keras.layers.reshaping.flatten.Flatten at 0x1d804ea0e20>,\n",
       " <keras.layers.core.dense.Dense at 0x1d810524af0>,\n",
       " <keras.layers.core.dense.Dense at 0x1d805281760>,\n",
       " <keras.layers.core.dense.Dense at 0x1d8105bf700>]"
      ]
     },
     "metadata": {},
     "output_type": "display_data"
    }
   ],
   "source": [
    "# model layer 정보를 list로 출력\n",
    "model.layers"
   ]
  },
  {
   "cell_type": "code",
   "execution_count": null,
   "metadata": {},
   "outputs": [
    {
     "data": {
      "text/plain": [
       "'Hidden1'"
      ]
     },
     "metadata": {},
     "output_type": "display_data"
    }
   ],
   "source": [
    "# layer의 index나 이름으로 선택 가능\n",
    "hidden1A = model.layers[1]\n",
    "hidden1A.name"
   ]
  },
  {
   "cell_type": "code",
   "execution_count": null,
   "metadata": {},
   "outputs": [
    {
     "data": {
      "text/plain": [
       "True"
      ]
     },
     "metadata": {},
     "output_type": "display_data"
    }
   ],
   "source": [
    "model.get_layer('Hidden1') is hidden1A"
   ]
  },
  {
   "cell_type": "markdown",
   "metadata": {},
   "source": [
    "* Dense layer는 연결 가중치를 무작위로 초기화 하며, 편향은 0으로 초기화 함\n",
    "    + Sequential Model 정의할 때 <kbd>input_shape</kbd>를 지정하였기 때문에 가능\n",
    "    + 만약 지정하지 않아도 문제는 없으나, build하기 전까지 <kbd>summary()</kbd> method 등의 특정 작업 수행 불가능함 "
   ]
  },
  {
   "cell_type": "code",
   "execution_count": null,
   "metadata": {},
   "outputs": [
    {
     "name": "stdout",
     "output_type": "stream",
     "text": [
      "[[-0.0662602  -0.00408696 -0.02201564 ... -0.07398505 -0.05954855\n",
      "  -0.06847581]\n",
      " [-0.01266389  0.04986744 -0.03145026 ... -0.03530715  0.05876213\n",
      "  -0.03890733]\n",
      " [ 0.02631707 -0.00368525 -0.04902753 ...  0.06258279  0.0045879\n",
      "   0.008622  ]\n",
      " ...\n",
      " [ 0.00251871  0.07394257  0.01182427 ... -0.03306888  0.07268916\n",
      "  -0.04292552]\n",
      " [-0.06215855 -0.06769737 -0.02940455 ...  0.03895978  0.06329028\n",
      "  -0.008534  ]\n",
      " [ 0.06944744  0.02753511 -0.02010798 ... -0.030647   -0.05967209\n",
      "   0.05856867]]\n",
      "(784, 300)\n"
     ]
    }
   ],
   "source": [
    "# 모든 layer의 parameter는 get_weights() 또는 set_weights() method를 통해 접근 가능\n",
    "weights, biases = hidden1A.get_weights()\n",
    "print(weights)\n",
    "print(weights.shape)"
   ]
  },
  {
   "cell_type": "code",
   "execution_count": null,
   "metadata": {},
   "outputs": [
    {
     "name": "stdout",
     "output_type": "stream",
     "text": [
      "[0. 0. 0. 0. 0. 0. 0. 0. 0. 0. 0. 0. 0. 0. 0. 0. 0. 0. 0. 0. 0. 0. 0. 0.\n",
      " 0. 0. 0. 0. 0. 0. 0. 0. 0. 0. 0. 0. 0. 0. 0. 0. 0. 0. 0. 0. 0. 0. 0. 0.\n",
      " 0. 0. 0. 0. 0. 0. 0. 0. 0. 0. 0. 0. 0. 0. 0. 0. 0. 0. 0. 0. 0. 0. 0. 0.\n",
      " 0. 0. 0. 0. 0. 0. 0. 0. 0. 0. 0. 0. 0. 0. 0. 0. 0. 0. 0. 0. 0. 0. 0. 0.\n",
      " 0. 0. 0. 0. 0. 0. 0. 0. 0. 0. 0. 0. 0. 0. 0. 0. 0. 0. 0. 0. 0. 0. 0. 0.\n",
      " 0. 0. 0. 0. 0. 0. 0. 0. 0. 0. 0. 0. 0. 0. 0. 0. 0. 0. 0. 0. 0. 0. 0. 0.\n",
      " 0. 0. 0. 0. 0. 0. 0. 0. 0. 0. 0. 0. 0. 0. 0. 0. 0. 0. 0. 0. 0. 0. 0. 0.\n",
      " 0. 0. 0. 0. 0. 0. 0. 0. 0. 0. 0. 0. 0. 0. 0. 0. 0. 0. 0. 0. 0. 0. 0. 0.\n",
      " 0. 0. 0. 0. 0. 0. 0. 0. 0. 0. 0. 0. 0. 0. 0. 0. 0. 0. 0. 0. 0. 0. 0. 0.\n",
      " 0. 0. 0. 0. 0. 0. 0. 0. 0. 0. 0. 0. 0. 0. 0. 0. 0. 0. 0. 0. 0. 0. 0. 0.\n",
      " 0. 0. 0. 0. 0. 0. 0. 0. 0. 0. 0. 0. 0. 0. 0. 0. 0. 0. 0. 0. 0. 0. 0. 0.\n",
      " 0. 0. 0. 0. 0. 0. 0. 0. 0. 0. 0. 0. 0. 0. 0. 0. 0. 0. 0. 0. 0. 0. 0. 0.\n",
      " 0. 0. 0. 0. 0. 0. 0. 0. 0. 0. 0. 0.]\n",
      "(300,)\n"
     ]
    }
   ],
   "source": [
    "print(biases)\n",
    "print(biases.shape)"
   ]
  },
  {
   "cell_type": "markdown",
   "metadata": {},
   "source": [
    "#### 모델 컴파일\n",
    "* <kbd>compile()</kbd> method를 호출하여 loss function, optimizer, metric을 지정할 수 있음.\n",
    "    + sparse_categorical_crossentropy : sparse label을 가지고 있는 경우 사용.\n",
    "        - 마약 one-hot vector label이라면 <kbd>categorical_corssentropy</kbd> 사용\n",
    "        - 이진 분류의 경우, output layer에서 sigmoid activation function + binary_crossentropy loss function 사용\n",
    "    + sgd : 확률적 경사 하강법(stochastic gradient descent) 기반의 모델 훈련 = 역전파 알고리즘의 가중치 조정 단계\n",
    "        - learning rate을 조절할 경우 \"sgd\" 대신 <kbd>keras.optimizers.SGD(learning_rate=0.01)</kbd>을 사용함.\n",
    "    + accuracy : classification model 이니까,,\n"
   ]
  },
  {
   "cell_type": "code",
   "execution_count": null,
   "metadata": {},
   "outputs": [],
   "source": [
    "model.compile(loss=\"sparse_categorical_crossentropy\",\n",
    "              optimizer=\"sgd\",\n",
    "              metrics=[\"accuracy\"])"
   ]
  },
  {
   "cell_type": "markdown",
   "metadata": {},
   "source": [
    "#### 모델 훈련과 평가\n",
    "* <kbd>fit()</kbd> method를 통한 훈련\n",
    "    + 입력 특성(X_train), 타겟 클래스(y_train), 에포크 횟수, 검증 세트\n",
    "    + 훈련 세트 선능이 검증 세트보다 월등히 높다면 overfitting 또는 버그 존재 가능\n",
    "    + 현재 결과에서는 overfitting 문제는 없는 것으로 판단됨. (0.9191, 0.8974)\n",
    "* loss/accuracy 계산에 weight 부여하기\n",
    "    + class_weight : 클래스 별로 샘플의 수가 달라서, 적게 등장하는 클래스에 높은 가중치를 부여하는 등의 목적으로 사용\n",
    "    + sample_weight : 전문가에 의해 label이 부여된 샘플과 crowdsourcing label 부여된 샘플이 함께 존재하는 경우, 전자에 높은 가중치를 부여하는 등의 목적으로 사용 \n"
   ]
  },
  {
   "cell_type": "code",
   "execution_count": null,
   "metadata": {},
   "outputs": [
    {
     "name": "stdout",
     "output_type": "stream",
     "text": [
      "Epoch 1/30\n",
      "1719/1719 [==============================] - 3s 2ms/step - loss: 0.7000 - accuracy: 0.7720 - val_loss: 0.4946 - val_accuracy: 0.8332\n",
      "Epoch 2/30\n",
      "1719/1719 [==============================] - 2s 1ms/step - loss: 0.4837 - accuracy: 0.8331 - val_loss: 0.4678 - val_accuracy: 0.8396\n",
      "Epoch 3/30\n",
      "1719/1719 [==============================] - 3s 1ms/step - loss: 0.4396 - accuracy: 0.8471 - val_loss: 0.4089 - val_accuracy: 0.8608\n",
      "Epoch 4/30\n",
      "1719/1719 [==============================] - 3s 1ms/step - loss: 0.4137 - accuracy: 0.8559 - val_loss: 0.4111 - val_accuracy: 0.8624\n",
      "Epoch 5/30\n",
      "1719/1719 [==============================] - 3s 1ms/step - loss: 0.3943 - accuracy: 0.8619 - val_loss: 0.4044 - val_accuracy: 0.8630\n",
      "Epoch 6/30\n",
      "1719/1719 [==============================] - 3s 2ms/step - loss: 0.3790 - accuracy: 0.8677 - val_loss: 0.3852 - val_accuracy: 0.8700\n",
      "Epoch 7/30\n",
      "1719/1719 [==============================] - 3s 2ms/step - loss: 0.3647 - accuracy: 0.8722 - val_loss: 0.3675 - val_accuracy: 0.8730\n",
      "Epoch 8/30\n",
      "1719/1719 [==============================] - 3s 2ms/step - loss: 0.3542 - accuracy: 0.8752 - val_loss: 0.3617 - val_accuracy: 0.8716\n",
      "Epoch 9/30\n",
      "1719/1719 [==============================] - 3s 2ms/step - loss: 0.3431 - accuracy: 0.8792 - val_loss: 0.3475 - val_accuracy: 0.8798\n",
      "Epoch 10/30\n",
      "1719/1719 [==============================] - 3s 2ms/step - loss: 0.3343 - accuracy: 0.8816 - val_loss: 0.3463 - val_accuracy: 0.8770\n",
      "Epoch 11/30\n",
      "1719/1719 [==============================] - 3s 2ms/step - loss: 0.3260 - accuracy: 0.8841 - val_loss: 0.3482 - val_accuracy: 0.8754\n",
      "Epoch 12/30\n",
      "1719/1719 [==============================] - 3s 2ms/step - loss: 0.3169 - accuracy: 0.8875 - val_loss: 0.3389 - val_accuracy: 0.8786\n",
      "Epoch 13/30\n",
      "1719/1719 [==============================] - 3s 2ms/step - loss: 0.3088 - accuracy: 0.8900 - val_loss: 0.3490 - val_accuracy: 0.8748\n",
      "Epoch 14/30\n",
      "1719/1719 [==============================] - 3s 2ms/step - loss: 0.3034 - accuracy: 0.8916 - val_loss: 0.3247 - val_accuracy: 0.8824\n",
      "Epoch 15/30\n",
      "1719/1719 [==============================] - 3s 2ms/step - loss: 0.2965 - accuracy: 0.8936 - val_loss: 0.3175 - val_accuracy: 0.8874\n",
      "Epoch 16/30\n",
      "1719/1719 [==============================] - 4s 2ms/step - loss: 0.2898 - accuracy: 0.8957 - val_loss: 0.3371 - val_accuracy: 0.8802\n",
      "Epoch 17/30\n",
      "1719/1719 [==============================] - 3s 2ms/step - loss: 0.2842 - accuracy: 0.8975 - val_loss: 0.3070 - val_accuracy: 0.8900\n",
      "Epoch 18/30\n",
      "1719/1719 [==============================] - 3s 2ms/step - loss: 0.2794 - accuracy: 0.8994 - val_loss: 0.3087 - val_accuracy: 0.8906\n",
      "Epoch 19/30\n",
      "1719/1719 [==============================] - 3s 2ms/step - loss: 0.2725 - accuracy: 0.9020 - val_loss: 0.3205 - val_accuracy: 0.8848\n",
      "Epoch 20/30\n",
      "1719/1719 [==============================] - 3s 2ms/step - loss: 0.2677 - accuracy: 0.9033 - val_loss: 0.3047 - val_accuracy: 0.8908\n",
      "Epoch 21/30\n",
      "1719/1719 [==============================] - 3s 2ms/step - loss: 0.2629 - accuracy: 0.9051 - val_loss: 0.3390 - val_accuracy: 0.8756\n",
      "Epoch 22/30\n",
      "1719/1719 [==============================] - 3s 2ms/step - loss: 0.2578 - accuracy: 0.9069 - val_loss: 0.3095 - val_accuracy: 0.8856\n",
      "Epoch 23/30\n",
      "1719/1719 [==============================] - 3s 2ms/step - loss: 0.2541 - accuracy: 0.9086 - val_loss: 0.3000 - val_accuracy: 0.8908\n",
      "Epoch 24/30\n",
      "1719/1719 [==============================] - 3s 2ms/step - loss: 0.2492 - accuracy: 0.9099 - val_loss: 0.3095 - val_accuracy: 0.8856\n",
      "Epoch 25/30\n",
      "1719/1719 [==============================] - 3s 2ms/step - loss: 0.2449 - accuracy: 0.9119 - val_loss: 0.3022 - val_accuracy: 0.8902\n",
      "Epoch 26/30\n",
      "1719/1719 [==============================] - 3s 2ms/step - loss: 0.2411 - accuracy: 0.9130 - val_loss: 0.2981 - val_accuracy: 0.8910\n",
      "Epoch 27/30\n",
      "1719/1719 [==============================] - 3s 2ms/step - loss: 0.2372 - accuracy: 0.9149 - val_loss: 0.2956 - val_accuracy: 0.8896\n",
      "Epoch 28/30\n",
      "1719/1719 [==============================] - 3s 2ms/step - loss: 0.2331 - accuracy: 0.9158 - val_loss: 0.3214 - val_accuracy: 0.8866\n",
      "Epoch 29/30\n",
      "1719/1719 [==============================] - 3s 2ms/step - loss: 0.2296 - accuracy: 0.9179 - val_loss: 0.2923 - val_accuracy: 0.8906\n",
      "Epoch 30/30\n",
      "1719/1719 [==============================] - 3s 2ms/step - loss: 0.2252 - accuracy: 0.9195 - val_loss: 0.2950 - val_accuracy: 0.8940\n"
     ]
    },
    {
     "data": {
      "text/plain": [
       "'\\n# validation set을 나누지 않고 validation_split= parameter 사용 가능\\nhistory = model.fit(X_train_full, y_train_full, epochs=30,\\n                    validation_split=0.2)\\n'"
      ]
     },
     "metadata": {},
     "output_type": "display_data"
    }
   ],
   "source": [
    "\n",
    "history = model.fit(X_train, y_train, epochs=30,\n",
    "                    validation_data=(X_valid, y_valid))\n",
    "\"\"\"\n",
    "# validation set을 나누지 않고 validation_split= parameter 사용 가능\n",
    "history = model.fit(X_train_full, y_train_full, epochs=30,\n",
    "                    validation_split=0.2)\n",
    "\"\"\""
   ]
  },
  {
   "cell_type": "markdown",
   "metadata": {},
   "source": [
    "* <kbd>fit()</kbd> method output\n",
    "    + .params : 훈련 파라미터\n",
    "    + .epoch : 수행된 epoch list\n",
    "    + .history : loss와 accuracy를 담은 dictionary. learning curve 그리는 데에 사용 가능"
   ]
  },
  {
   "cell_type": "code",
   "execution_count": null,
   "metadata": {},
   "outputs": [
    {
     "data": {
      "image/png": "[encoded data removed]",
      "text/plain": [
       "<Figure size 576x360 with 1 Axes>"
      ]
     },
     "metadata": {},
     "output_type": "display_data"
    }
   ],
   "source": [
    "import pandas as pd\n",
    "import matplotlib.pyplot as plt\n",
    "\n",
    "pd.DataFrame(history.history).plot(figsize=(8, 5))\n",
    "plt.grid(True)\n",
    "plt.gca().set_ylim(0, 1) # set the vertical range to [0-1]\n",
    "plt.show()"
   ]
  },
  {
   "cell_type": "markdown",
   "metadata": {},
   "source": [
    "* learning curve\n",
    "    + training loss는 epoch 진행 중에, valid loss는 epoch 끝난 후에 계산되므로, training curve는 epoch의 절반만큼 왼쪽으로 이동되었다고 고려하는 것이 바라직함.\n",
    "    + 일반적으로는 충분히 오래 훈련하면 훈련세트 성능이 검증세트의 성능을 앞지르는 것이 정상적임.\n",
    "    + valid loss가 계속 감소한다면 훈련이 추가로 더 필요한 것으로 판단할 수 있음.\n",
    "* test set을 사용한 일반화 오차 추정\n",
    "    + <kbd>evaluate()</kbd> method 사용\n",
    "    + hyperparameter tuning에 test set은 사용되지 않으므로 성능이 조금 낮은 것이 일반적임"
   ]
  },
  {
   "cell_type": "code",
   "execution_count": null,
   "metadata": {},
   "outputs": [
    {
     "name": "stdout",
     "output_type": "stream",
     "text": [
      "313/313 [==============================] - 0s 1ms/step - loss: 0.3294 - accuracy: 0.8847\n"
     ]
    },
    {
     "data": {
      "text/plain": [
       "[0.3293896019458771, 0.8847000002861023]"
      ]
     },
     "metadata": {},
     "output_type": "display_data"
    }
   ],
   "source": [
    "model.evaluate(X_test, y_test)"
   ]
  },
  {
   "cell_type": "markdown",
   "metadata": {},
   "source": [
    "#### 모델을 사용해 예측을 만들기\n",
    "* <kbd>predict()</kbd> method 사용\n",
    "    + 각 class에 대해 확률을 추정함\n",
    "    + 가장 높은 확률을 가진 class 정보만 알고싶다면 <kbd>predict_classes()</kbd> method 사용 : **Tensorflow 2.6 이후 제거됨!**"
   ]
  },
  {
   "cell_type": "code",
   "execution_count": null,
   "metadata": {},
   "outputs": [
    {
     "name": "stdout",
     "output_type": "stream",
     "text": [
      "1/1 [==============================] - 0s 88ms/step\n"
     ]
    },
    {
     "data": {
      "text/plain": [
       "array([[0.  , 0.  , 0.  , 0.  , 0.  , 0.01, 0.  , 0.05, 0.  , 0.94],\n",
       "       [0.  , 0.  , 1.  , 0.  , 0.  , 0.  , 0.  , 0.  , 0.  , 0.  ],\n",
       "       [0.  , 1.  , 0.  , 0.  , 0.  , 0.  , 0.  , 0.  , 0.  , 0.  ]],\n",
       "      dtype=float32)"
      ]
     },
     "metadata": {},
     "output_type": "display_data"
    }
   ],
   "source": [
    "X_new = X_test[:3]\n",
    "y_proba = model.predict(X_new)\n",
    "y_proba.round(2)"
   ]
  },
  {
   "cell_type": "code",
   "execution_count": null,
   "metadata": {},
   "outputs": [
    {
     "data": {
      "text/plain": [
       "array([9, 2, 1], dtype=int64)"
      ]
     },
     "metadata": {},
     "output_type": "display_data"
    }
   ],
   "source": [
    "# y_pred = model.predict_classes(X_new)\n",
    "y_pred = y_proba.argmax(axis=1)\n",
    "y_pred"
   ]
  },
  {
   "cell_type": "code",
   "execution_count": null,
   "metadata": {},
   "outputs": [
    {
     "data": {
      "text/plain": [
       "array(['Ankle boot', 'Pullover', 'Trouser'], dtype='<U11')"
      ]
     },
     "metadata": {},
     "output_type": "display_data"
    }
   ],
   "source": [
    "\n",
    "import numpy as np\n",
    "np.array(class_names)[y_pred]"
   ]
  },
  {
   "cell_type": "code",
   "execution_count": null,
   "metadata": {},
   "outputs": [
    {
     "data": {
      "text/plain": [
       "array([9, 2, 1], dtype=uint8)"
      ]
     },
     "metadata": {},
     "output_type": "display_data"
    }
   ],
   "source": [
    "\n",
    "# 실제 class와 비교\n",
    "y_new = y_test[:3]\n",
    "y_new"
   ]
  }
 ],
 "metadata": {
  "language_info": {
   "name": "python"
  },
  "orig_nbformat": 4
 },
 "nbformat": 4,
 "nbformat_minor": 2
}
